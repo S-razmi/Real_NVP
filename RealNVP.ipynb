{
  "cells": [
    {
      "cell_type": "code",
      "execution_count": 1,
      "metadata": {
        "id": "_j4rUySxiTSc"
      },
      "outputs": [],
      "source": [
        "import numpy as np\n",
        "import matplotlib.pyplot as plt\n",
        "%matplotlib inline\n",
        "from pylab import rcParams\n",
        "rcParams['figure.figsize'] = 5, 5\n",
        "rcParams['figure.dpi'] = 100\n",
        "import torch\n",
        "from torch import nn\n",
        "from torch import distributions\n",
        "from torch.nn.parameter import Parameter\n",
        "from torch.nn import functional as F\n",
        "from torch.utils.data import DataLoader, Dataset\n",
        "from torchvision import datasets, transforms\n",
        "from tqdm import tqdm\n",
        "device = torch.device(\"cuda\" if torch.cuda.is_available() else \"cpu\")"
      ]
    },
    {
      "cell_type": "code",
      "execution_count": 65,
      "metadata": {
        "id": "HUVjrGWbUel6"
      },
      "outputs": [],
      "source": [
        "import torch\n",
        "import torch.nn as nn\n",
        "class RealNVPBlock(nn.Module):\n",
        "    def __init__(self, in_features, hidden_features):\n",
        "        super(RealNVPBlock, self).__init__()\n",
        "        self.net_s = nn.Sequential(\n",
        "            nn.Linear(in_features // 2, hidden_features),\n",
        "            nn.ReLU(),\n",
        "            nn.Linear(hidden_features, hidden_features*2),\n",
        "            nn.ReLU(),\n",
        "            nn.Linear(hidden_features*2, hidden_features*2),\n",
        "            nn.ReLU(),\n",
        "            nn.Linear(hidden_features*2, hidden_features),\n",
        "            nn.ReLU(),\n",
        "            nn.Linear(hidden_features, in_features // 2),\n",
        "            nn.ReLU()\n",
        "        )\n",
        "        self.net_t = nn.Sequential(\n",
        "            nn.Linear(in_features // 2, hidden_features),\n",
        "            nn.ReLU(),\n",
        "            nn.Linear(hidden_features, hidden_features*2),\n",
        "            nn.ReLU(),\n",
        "            nn.Linear(hidden_features*2, hidden_features*2),\n",
        "            nn.ReLU(),\n",
        "            nn.Linear(hidden_features*2, hidden_features),\n",
        "            nn.ReLU(),\n",
        "            nn.Linear(hidden_features, in_features // 2),\n",
        "            nn.ReLU()\n",
        "        )\n",
        "    def backward(self, y):\n",
        "        y_a, y_b = y.chunk(2, dim=1)\n",
        "        x_a = y_a\n",
        "        s = self.net_s(y_a)\n",
        "        t = self.net_t(y_a)\n",
        "        x_b = (y_b - t)*torch.exp(-s)\n",
        "        x = torch.cat([x_a, x_b], dim=1)\n",
        "        return x\n",
        "    def forward(self,x):\n",
        "        x_a, x_b = x.chunk(2,dim=1)\n",
        "        y_a = x_a\n",
        "        s = self.net_s(x_a)\n",
        "        t = self.net_t(x_a)\n",
        "        y_b = x_b * torch.exp(s) + t\n",
        "        log_det_Jac = -s.sum(dim=1)\n",
        "        y = torch.cat([y_a, y_b], dim=1)\n",
        "        return y,log_det_Jac\n",
        "class RealNVP(nn.Module):\n",
        "    def __init__(self, num_blocks, in_features, hidden_features):\n",
        "        super(RealNVP, self).__init__()\n",
        "        self.in_features=  in_features\n",
        "        self.blocks = nn.ModuleList([RealNVPBlock(self.in_features, hidden_features) for _ in range(num_blocks)])\n",
        "        self.blocks = self.blocks.to(device)\n",
        "        self.prior =  distributions.MultivariateNormal(torch.zeros(self.in_features), torch.eye(self.in_features))\n",
        "    def forward(self, x):\n",
        "        # pdb.set_trace()\n",
        "        sum_log_det_Jac= x.new_zeros(x.shape[0]).to(device)\n",
        "        for block in self.blocks:\n",
        "            x,log_det_Jac = block.forward(x)\n",
        "            sum_log_det_Jac +=log_det_Jac\n",
        "            x = torch.flip(x,dims=(1,))\n",
        "        y = x\n",
        "        return y,sum_log_det_Jac\n",
        "    def backward(self,y):\n",
        "        for block in reversed(self.blocks):\n",
        "            y = block.backward(y)\n",
        "            y = torch.flip(y,dims=(1,))\n",
        "        x = y\n",
        "        return x\n",
        "    def log_prob(self,x):\n",
        "        y, logp = self.forward(x)\n",
        "        # pdb.set_trace()\n",
        "        y = y.to('cpu')\n",
        "        p_z = self.prior.log_prob(y)\n",
        "        p_z = p_z.to(device)\n",
        "        return (p_z+logp)\n",
        "    def sample(self, batchSize):\n",
        "        y = self.prior.sample((batchSize,1))\n",
        "        if y.dim()>2:\n",
        "          y = torch.squeeze(y)\n",
        "        y=y.to('cpu')\n",
        "        logp = self.prior.log_prob(y)\n",
        "        y = y.to(device)\n",
        "        x = self.backward(y)\n",
        "        return x"
      ]
    },
    {
      "cell_type": "code",
      "execution_count": 89,
      "metadata": {
        "id": "Pkp_I7hAfx4F"
      },
      "outputs": [],
      "source": [
        "num_blocks = 6\n",
        "in_features = 28 * 28\n",
        "hidden_features = 512\n",
        "batch_size = 512\n",
        "learning_rate = 0.001\n",
        "epochs = 100\n",
        "import torch\n",
        "from torchvision import datasets, transforms\n",
        "from torch.utils.data import DataLoader\n",
        "\n",
        "# Define a transform to normalize the data\n",
        "transform = transforms.Compose([transforms.ToTensor(), transforms.Normalize((-.5,), (-.5,))])\n",
        "\n",
        "# Download and load the training data\n",
        "train_dataset = datasets.MNIST(root='./data', train=True, download=True, transform=transform)\n",
        "# Create a DataLoader to batch and shuffle the data\n",
        "train_loader = DataLoader(dataset=train_dataset, batch_size=batch_size, shuffle=True)\n",
        "test_dataset = datasets.MNIST(root='./data', train=False, download=True, transform=transform)\n",
        "test_loader = DataLoader(dataset=train_dataset, batch_size=batch_size, shuffle=True)\n"
      ]
    },
    {
      "cell_type": "code",
      "execution_count": 12,
      "metadata": {
        "id": "lXodjuBgn6Si"
      },
      "outputs": [],
      "source": [
        "import pdb"
      ]
    },
    {
      "cell_type": "code",
      "source": [
        "real_nvp_model = RealNVP(num_blocks, in_features, hidden_features).to(device)\n",
        "train_loss =[]\n",
        "test_loss = []\n",
        "result_images=[]"
      ],
      "metadata": {
        "id": "25UGBICo7gM9"
      },
      "execution_count": 90,
      "outputs": []
    },
    {
      "cell_type": "code",
      "execution_count": 93,
      "metadata": {
        "colab": {
          "base_uri": "https://localhost:8080/"
        },
        "id": "LcgH0vk0TTYX",
        "outputId": "b16afe98-3923-443f-86a9-81b16bf88eab"
      },
      "outputs": [
        {
          "output_type": "stream",
          "name": "stderr",
          "text": [
            "  1%|          | 1/100 [00:34<57:40, 34.96s/it]"
          ]
        },
        {
          "output_type": "stream",
          "name": "stdout",
          "text": [
            "iter 0: loss = 1457550.909 validation loss = 777.408\n"
          ]
        },
        {
          "output_type": "stream",
          "name": "stderr",
          "text": [
            "\r  2%|▏         | 2/100 [01:08<56:07, 34.37s/it]"
          ]
        },
        {
          "output_type": "stream",
          "name": "stdout",
          "text": [
            "iter 1: loss = 772.926 validation loss = 770.132\n"
          ]
        },
        {
          "output_type": "stream",
          "name": "stderr",
          "text": [
            "\r  3%|▎         | 3/100 [01:43<55:51, 34.55s/it]"
          ]
        },
        {
          "output_type": "stream",
          "name": "stdout",
          "text": [
            "iter 2: loss = 768.211 validation loss = 767.097\n"
          ]
        },
        {
          "output_type": "stream",
          "name": "stderr",
          "text": [
            "\r  4%|▍         | 4/100 [02:17<54:58, 34.36s/it]"
          ]
        },
        {
          "output_type": "stream",
          "name": "stdout",
          "text": [
            "iter 3: loss = 765.290 validation loss = 763.945\n"
          ]
        },
        {
          "output_type": "stream",
          "name": "stderr",
          "text": [
            "\r  5%|▌         | 5/100 [02:52<54:54, 34.68s/it]"
          ]
        },
        {
          "output_type": "stream",
          "name": "stdout",
          "text": [
            "iter 4: loss = 762.694 validation loss = 762.820\n"
          ]
        },
        {
          "output_type": "stream",
          "name": "stderr",
          "text": [
            "\r  6%|▌         | 6/100 [03:27<54:21, 34.70s/it]"
          ]
        },
        {
          "output_type": "stream",
          "name": "stdout",
          "text": [
            "iter 5: loss = 760.919 validation loss = 761.690\n"
          ]
        },
        {
          "output_type": "stream",
          "name": "stderr",
          "text": [
            "\r  7%|▋         | 7/100 [04:02<53:50, 34.73s/it]"
          ]
        },
        {
          "output_type": "stream",
          "name": "stdout",
          "text": [
            "iter 6: loss = 758.845 validation loss = 757.793\n"
          ]
        },
        {
          "output_type": "stream",
          "name": "stderr",
          "text": [
            "\r  8%|▊         | 8/100 [04:37<53:09, 34.67s/it]"
          ]
        },
        {
          "output_type": "stream",
          "name": "stdout",
          "text": [
            "iter 7: loss = 756.957 validation loss = 755.935\n"
          ]
        },
        {
          "output_type": "stream",
          "name": "stderr",
          "text": [
            "\r  9%|▉         | 9/100 [05:11<52:31, 34.63s/it]"
          ]
        },
        {
          "output_type": "stream",
          "name": "stdout",
          "text": [
            "iter 8: loss = 755.780 validation loss = 754.553\n"
          ]
        },
        {
          "output_type": "stream",
          "name": "stderr",
          "text": [
            "\r 10%|█         | 10/100 [05:45<51:42, 34.47s/it]"
          ]
        },
        {
          "output_type": "stream",
          "name": "stdout",
          "text": [
            "iter 9: loss = 754.233 validation loss = 753.190\n"
          ]
        },
        {
          "output_type": "stream",
          "name": "stderr",
          "text": [
            "\r 11%|█         | 11/100 [06:20<51:14, 34.55s/it]"
          ]
        },
        {
          "output_type": "stream",
          "name": "stdout",
          "text": [
            "iter 10: loss = 752.826 validation loss = 752.051\n"
          ]
        },
        {
          "output_type": "stream",
          "name": "stderr",
          "text": [
            "\r 12%|█▏        | 12/100 [06:55<50:49, 34.65s/it]"
          ]
        },
        {
          "output_type": "stream",
          "name": "stdout",
          "text": [
            "iter 11: loss = 752.069 validation loss = 753.048\n"
          ]
        },
        {
          "output_type": "stream",
          "name": "stderr",
          "text": [
            "\r 13%|█▎        | 13/100 [07:29<49:59, 34.48s/it]"
          ]
        },
        {
          "output_type": "stream",
          "name": "stdout",
          "text": [
            "iter 12: loss = 750.706 validation loss = 750.189\n"
          ]
        },
        {
          "output_type": "stream",
          "name": "stderr",
          "text": [
            "\r 14%|█▍        | 14/100 [08:03<49:23, 34.45s/it]"
          ]
        },
        {
          "output_type": "stream",
          "name": "stdout",
          "text": [
            "iter 13: loss = 753.110 validation loss = 749.665\n"
          ]
        },
        {
          "output_type": "stream",
          "name": "stderr",
          "text": [
            "\r 15%|█▌        | 15/100 [08:37<48:37, 34.32s/it]"
          ]
        },
        {
          "output_type": "stream",
          "name": "stdout",
          "text": [
            "iter 14: loss = 748.668 validation loss = 748.927\n"
          ]
        },
        {
          "output_type": "stream",
          "name": "stderr",
          "text": [
            "\r 16%|█▌        | 16/100 [09:11<47:44, 34.10s/it]"
          ]
        },
        {
          "output_type": "stream",
          "name": "stdout",
          "text": [
            "iter 15: loss = 748.217 validation loss = 747.816\n"
          ]
        },
        {
          "output_type": "stream",
          "name": "stderr",
          "text": [
            "\r 17%|█▋        | 17/100 [09:46<47:25, 34.29s/it]"
          ]
        },
        {
          "output_type": "stream",
          "name": "stdout",
          "text": [
            "iter 16: loss = 747.218 validation loss = 747.088\n"
          ]
        },
        {
          "output_type": "stream",
          "name": "stderr",
          "text": [
            "\r 18%|█▊        | 18/100 [10:19<46:28, 34.00s/it]"
          ]
        },
        {
          "output_type": "stream",
          "name": "stdout",
          "text": [
            "iter 17: loss = 747.732 validation loss = 751.688\n"
          ]
        },
        {
          "output_type": "stream",
          "name": "stderr",
          "text": [
            "\r 19%|█▉        | 19/100 [10:53<46:02, 34.10s/it]"
          ]
        },
        {
          "output_type": "stream",
          "name": "stdout",
          "text": [
            "iter 18: loss = 746.543 validation loss = 745.377\n"
          ]
        },
        {
          "output_type": "stream",
          "name": "stderr",
          "text": [
            "\r 20%|██        | 20/100 [11:27<45:14, 33.93s/it]"
          ]
        },
        {
          "output_type": "stream",
          "name": "stdout",
          "text": [
            "iter 19: loss = 745.286 validation loss = 744.938\n"
          ]
        },
        {
          "output_type": "stream",
          "name": "stderr",
          "text": [
            "\r 21%|██        | 21/100 [12:01<44:57, 34.14s/it]"
          ]
        },
        {
          "output_type": "stream",
          "name": "stdout",
          "text": [
            "iter 20: loss = 745.049 validation loss = 745.807\n"
          ]
        },
        {
          "output_type": "stream",
          "name": "stderr",
          "text": [
            "\r 22%|██▏       | 22/100 [12:35<44:03, 33.89s/it]"
          ]
        },
        {
          "output_type": "stream",
          "name": "stdout",
          "text": [
            "iter 21: loss = 744.471 validation loss = 743.809\n"
          ]
        },
        {
          "output_type": "stream",
          "name": "stderr",
          "text": [
            "\r 23%|██▎       | 23/100 [13:10<43:54, 34.22s/it]"
          ]
        },
        {
          "output_type": "stream",
          "name": "stdout",
          "text": [
            "iter 22: loss = 743.915 validation loss = 743.267\n"
          ]
        },
        {
          "output_type": "stream",
          "name": "stderr",
          "text": [
            "\r 24%|██▍       | 24/100 [13:43<43:03, 33.99s/it]"
          ]
        },
        {
          "output_type": "stream",
          "name": "stdout",
          "text": [
            "iter 23: loss = 745.641 validation loss = 743.512\n"
          ]
        },
        {
          "output_type": "stream",
          "name": "stderr",
          "text": [
            "\r 25%|██▌       | 25/100 [14:18<42:42, 34.17s/it]"
          ]
        },
        {
          "output_type": "stream",
          "name": "stdout",
          "text": [
            "iter 24: loss = 742.912 validation loss = 744.834\n"
          ]
        },
        {
          "output_type": "stream",
          "name": "stderr",
          "text": [
            "\r 26%|██▌       | 26/100 [14:51<41:49, 33.91s/it]"
          ]
        },
        {
          "output_type": "stream",
          "name": "stdout",
          "text": [
            "iter 25: loss = 742.916 validation loss = 741.905\n"
          ]
        },
        {
          "output_type": "stream",
          "name": "stderr",
          "text": [
            "\r 27%|██▋       | 27/100 [15:25<41:18, 33.95s/it]"
          ]
        },
        {
          "output_type": "stream",
          "name": "stdout",
          "text": [
            "iter 26: loss = 742.226 validation loss = 741.754\n"
          ]
        },
        {
          "output_type": "stream",
          "name": "stderr",
          "text": [
            "\r 28%|██▊       | 28/100 [15:59<40:33, 33.80s/it]"
          ]
        },
        {
          "output_type": "stream",
          "name": "stdout",
          "text": [
            "iter 27: loss = 743.083 validation loss = 743.566\n"
          ]
        },
        {
          "output_type": "stream",
          "name": "stderr",
          "text": [
            "\r 29%|██▉       | 29/100 [16:33<40:14, 34.01s/it]"
          ]
        },
        {
          "output_type": "stream",
          "name": "stdout",
          "text": [
            "iter 28: loss = 741.611 validation loss = 740.994\n"
          ]
        },
        {
          "output_type": "stream",
          "name": "stderr",
          "text": [
            "\r 30%|███       | 30/100 [17:06<39:15, 33.65s/it]"
          ]
        },
        {
          "output_type": "stream",
          "name": "stdout",
          "text": [
            "iter 29: loss = 741.097 validation loss = 740.904\n"
          ]
        },
        {
          "output_type": "stream",
          "name": "stderr",
          "text": [
            "\r 31%|███       | 31/100 [17:40<38:55, 33.84s/it]"
          ]
        },
        {
          "output_type": "stream",
          "name": "stdout",
          "text": [
            "iter 30: loss = 741.743 validation loss = 740.365\n"
          ]
        },
        {
          "output_type": "stream",
          "name": "stderr",
          "text": [
            "\r 32%|███▏      | 32/100 [18:14<38:18, 33.80s/it]"
          ]
        },
        {
          "output_type": "stream",
          "name": "stdout",
          "text": [
            "iter 31: loss = 740.254 validation loss = 741.026\n"
          ]
        },
        {
          "output_type": "stream",
          "name": "stderr",
          "text": [
            "\r 33%|███▎      | 33/100 [18:48<37:54, 33.95s/it]"
          ]
        },
        {
          "output_type": "stream",
          "name": "stdout",
          "text": [
            "iter 32: loss = 742.501 validation loss = 740.825\n"
          ]
        },
        {
          "output_type": "stream",
          "name": "stderr",
          "text": [
            "\r 34%|███▍      | 34/100 [19:22<37:14, 33.86s/it]"
          ]
        },
        {
          "output_type": "stream",
          "name": "stdout",
          "text": [
            "iter 33: loss = 740.019 validation loss = 739.709\n"
          ]
        },
        {
          "output_type": "stream",
          "name": "stderr",
          "text": [
            "\r 35%|███▌      | 35/100 [19:56<36:44, 33.92s/it]"
          ]
        },
        {
          "output_type": "stream",
          "name": "stdout",
          "text": [
            "iter 34: loss = 740.998 validation loss = 739.612\n"
          ]
        },
        {
          "output_type": "stream",
          "name": "stderr",
          "text": [
            "\r 36%|███▌      | 36/100 [20:30<36:08, 33.88s/it]"
          ]
        },
        {
          "output_type": "stream",
          "name": "stdout",
          "text": [
            "iter 35: loss = 739.253 validation loss = 739.629\n"
          ]
        },
        {
          "output_type": "stream",
          "name": "stderr",
          "text": [
            "\r 37%|███▋      | 37/100 [21:03<35:23, 33.70s/it]"
          ]
        },
        {
          "output_type": "stream",
          "name": "stdout",
          "text": [
            "iter 36: loss = 739.696 validation loss = 739.013\n"
          ]
        },
        {
          "output_type": "stream",
          "name": "stderr",
          "text": [
            "\r 38%|███▊      | 38/100 [21:37<35:02, 33.91s/it]"
          ]
        },
        {
          "output_type": "stream",
          "name": "stdout",
          "text": [
            "iter 37: loss = 738.995 validation loss = 739.202\n"
          ]
        },
        {
          "output_type": "stream",
          "name": "stderr",
          "text": [
            "\r 39%|███▉      | 39/100 [22:11<34:15, 33.69s/it]"
          ]
        },
        {
          "output_type": "stream",
          "name": "stdout",
          "text": [
            "iter 38: loss = 738.577 validation loss = 738.684\n"
          ]
        },
        {
          "output_type": "stream",
          "name": "stderr",
          "text": [
            "\r 40%|████      | 40/100 [22:45<33:52, 33.87s/it]"
          ]
        },
        {
          "output_type": "stream",
          "name": "stdout",
          "text": [
            "iter 39: loss = 747.937 validation loss = 742.728\n"
          ]
        },
        {
          "output_type": "stream",
          "name": "stderr",
          "text": [
            "\r 41%|████      | 41/100 [23:18<33:07, 33.68s/it]"
          ]
        },
        {
          "output_type": "stream",
          "name": "stdout",
          "text": [
            "iter 40: loss = 740.475 validation loss = 739.404\n"
          ]
        },
        {
          "output_type": "stream",
          "name": "stderr",
          "text": [
            "\r 42%|████▏     | 42/100 [23:52<32:40, 33.81s/it]"
          ]
        },
        {
          "output_type": "stream",
          "name": "stdout",
          "text": [
            "iter 41: loss = 739.056 validation loss = 739.133\n"
          ]
        },
        {
          "output_type": "stream",
          "name": "stderr",
          "text": [
            "\r 43%|████▎     | 43/100 [24:25<31:48, 33.49s/it]"
          ]
        },
        {
          "output_type": "stream",
          "name": "stdout",
          "text": [
            "iter 42: loss = 738.627 validation loss = 738.973\n"
          ]
        },
        {
          "output_type": "stream",
          "name": "stderr",
          "text": [
            "\r 44%|████▍     | 44/100 [24:59<31:19, 33.56s/it]"
          ]
        },
        {
          "output_type": "stream",
          "name": "stdout",
          "text": [
            "iter 43: loss = 738.476 validation loss = 738.787\n"
          ]
        },
        {
          "output_type": "stream",
          "name": "stderr",
          "text": [
            "\r 45%|████▌     | 45/100 [25:31<30:32, 33.32s/it]"
          ]
        },
        {
          "output_type": "stream",
          "name": "stdout",
          "text": [
            "iter 44: loss = 738.152 validation loss = 738.386\n"
          ]
        },
        {
          "output_type": "stream",
          "name": "stderr",
          "text": [
            "\r 46%|████▌     | 46/100 [26:04<29:54, 33.23s/it]"
          ]
        },
        {
          "output_type": "stream",
          "name": "stdout",
          "text": [
            "iter 45: loss = 738.380 validation loss = 739.202\n"
          ]
        },
        {
          "output_type": "stream",
          "name": "stderr",
          "text": [
            "\r 47%|████▋     | 47/100 [26:38<29:33, 33.46s/it]"
          ]
        },
        {
          "output_type": "stream",
          "name": "stdout",
          "text": [
            "iter 46: loss = 737.873 validation loss = 737.396\n"
          ]
        },
        {
          "output_type": "stream",
          "name": "stderr",
          "text": [
            "\r 48%|████▊     | 48/100 [27:12<28:54, 33.36s/it]"
          ]
        },
        {
          "output_type": "stream",
          "name": "stdout",
          "text": [
            "iter 47: loss = 737.533 validation loss = 737.865\n"
          ]
        },
        {
          "output_type": "stream",
          "name": "stderr",
          "text": [
            "\r 49%|████▉     | 49/100 [27:45<28:28, 33.49s/it]"
          ]
        },
        {
          "output_type": "stream",
          "name": "stdout",
          "text": [
            "iter 48: loss = 737.298 validation loss = 739.074\n"
          ]
        },
        {
          "output_type": "stream",
          "name": "stderr",
          "text": [
            "\r 50%|█████     | 50/100 [28:19<27:49, 33.39s/it]"
          ]
        },
        {
          "output_type": "stream",
          "name": "stdout",
          "text": [
            "iter 49: loss = 738.779 validation loss = 736.849\n"
          ]
        },
        {
          "output_type": "stream",
          "name": "stderr",
          "text": [
            "\r 51%|█████     | 51/100 [28:52<27:21, 33.49s/it]"
          ]
        },
        {
          "output_type": "stream",
          "name": "stdout",
          "text": [
            "iter 50: loss = 736.629 validation loss = 736.721\n"
          ]
        },
        {
          "output_type": "stream",
          "name": "stderr",
          "text": [
            "\r 52%|█████▏    | 52/100 [29:25<26:42, 33.38s/it]"
          ]
        },
        {
          "output_type": "stream",
          "name": "stdout",
          "text": [
            "iter 51: loss = 737.094 validation loss = 738.092\n"
          ]
        },
        {
          "output_type": "stream",
          "name": "stderr",
          "text": [
            "\r 53%|█████▎    | 53/100 [29:59<26:18, 33.59s/it]"
          ]
        },
        {
          "output_type": "stream",
          "name": "stdout",
          "text": [
            "iter 52: loss = 737.168 validation loss = 736.127\n"
          ]
        },
        {
          "output_type": "stream",
          "name": "stderr",
          "text": [
            "\r 54%|█████▍    | 54/100 [30:33<25:39, 33.47s/it]"
          ]
        },
        {
          "output_type": "stream",
          "name": "stdout",
          "text": [
            "iter 53: loss = 736.267 validation loss = 736.209\n"
          ]
        },
        {
          "output_type": "stream",
          "name": "stderr",
          "text": [
            "\r 55%|█████▌    | 55/100 [31:06<25:04, 33.44s/it]"
          ]
        },
        {
          "output_type": "stream",
          "name": "stdout",
          "text": [
            "iter 54: loss = 740.558 validation loss = 738.542\n"
          ]
        },
        {
          "output_type": "stream",
          "name": "stderr",
          "text": [
            "\r 56%|█████▌    | 56/100 [31:40<24:43, 33.71s/it]"
          ]
        },
        {
          "output_type": "stream",
          "name": "stdout",
          "text": [
            "iter 55: loss = 736.669 validation loss = 735.936\n"
          ]
        },
        {
          "output_type": "stream",
          "name": "stderr",
          "text": [
            "\r 57%|█████▋    | 57/100 [32:14<24:06, 33.65s/it]"
          ]
        },
        {
          "output_type": "stream",
          "name": "stdout",
          "text": [
            "iter 56: loss = 735.950 validation loss = 736.183\n"
          ]
        },
        {
          "output_type": "stream",
          "name": "stderr",
          "text": [
            "\r 58%|█████▊    | 58/100 [32:48<23:37, 33.75s/it]"
          ]
        },
        {
          "output_type": "stream",
          "name": "stdout",
          "text": [
            "iter 57: loss = 735.893 validation loss = 736.938\n"
          ]
        },
        {
          "output_type": "stream",
          "name": "stderr",
          "text": [
            "\r 59%|█████▉    | 59/100 [33:21<22:55, 33.56s/it]"
          ]
        },
        {
          "output_type": "stream",
          "name": "stdout",
          "text": [
            "iter 58: loss = 736.019 validation loss = 735.590\n"
          ]
        },
        {
          "output_type": "stream",
          "name": "stderr",
          "text": [
            "\r 60%|██████    | 60/100 [33:55<22:32, 33.82s/it]"
          ]
        },
        {
          "output_type": "stream",
          "name": "stdout",
          "text": [
            "iter 59: loss = 735.911 validation loss = 735.970\n"
          ]
        },
        {
          "output_type": "stream",
          "name": "stderr",
          "text": [
            "\r 61%|██████    | 61/100 [34:28<21:47, 33.53s/it]"
          ]
        },
        {
          "output_type": "stream",
          "name": "stdout",
          "text": [
            "iter 60: loss = 740.217 validation loss = 735.932\n"
          ]
        },
        {
          "output_type": "stream",
          "name": "stderr",
          "text": [
            "\r 62%|██████▏   | 62/100 [35:02<21:18, 33.63s/it]"
          ]
        },
        {
          "output_type": "stream",
          "name": "stdout",
          "text": [
            "iter 61: loss = 735.515 validation loss = 736.037\n"
          ]
        },
        {
          "output_type": "stream",
          "name": "stderr",
          "text": [
            "\r 63%|██████▎   | 63/100 [35:35<20:33, 33.33s/it]"
          ]
        },
        {
          "output_type": "stream",
          "name": "stdout",
          "text": [
            "iter 62: loss = 735.371 validation loss = 735.411\n"
          ]
        },
        {
          "output_type": "stream",
          "name": "stderr",
          "text": [
            "\r 64%|██████▍   | 64/100 [36:08<20:04, 33.46s/it]"
          ]
        },
        {
          "output_type": "stream",
          "name": "stdout",
          "text": [
            "iter 63: loss = 738.602 validation loss = 738.020\n"
          ]
        },
        {
          "output_type": "stream",
          "name": "stderr",
          "text": [
            "\r 65%|██████▌   | 65/100 [36:42<19:33, 33.53s/it]"
          ]
        },
        {
          "output_type": "stream",
          "name": "stdout",
          "text": [
            "iter 64: loss = 735.651 validation loss = 735.031\n"
          ]
        },
        {
          "output_type": "stream",
          "name": "stderr",
          "text": [
            "\r 66%|██████▌   | 66/100 [37:15<18:53, 33.33s/it]"
          ]
        },
        {
          "output_type": "stream",
          "name": "stdout",
          "text": [
            "iter 65: loss = 734.832 validation loss = 734.761\n"
          ]
        },
        {
          "output_type": "stream",
          "name": "stderr",
          "text": [
            "\r 67%|██████▋   | 67/100 [37:49<18:24, 33.46s/it]"
          ]
        },
        {
          "output_type": "stream",
          "name": "stdout",
          "text": [
            "iter 66: loss = 735.684 validation loss = 734.901\n"
          ]
        },
        {
          "output_type": "stream",
          "name": "stderr",
          "text": [
            "\r 68%|██████▊   | 68/100 [38:22<17:45, 33.31s/it]"
          ]
        },
        {
          "output_type": "stream",
          "name": "stdout",
          "text": [
            "iter 67: loss = 734.504 validation loss = 734.460\n"
          ]
        },
        {
          "output_type": "stream",
          "name": "stderr",
          "text": [
            "\r 69%|██████▉   | 69/100 [38:56<17:19, 33.53s/it]"
          ]
        },
        {
          "output_type": "stream",
          "name": "stdout",
          "text": [
            "iter 68: loss = 734.528 validation loss = 734.284\n"
          ]
        },
        {
          "output_type": "stream",
          "name": "stderr",
          "text": [
            "\r 70%|███████   | 70/100 [39:29<16:43, 33.45s/it]"
          ]
        },
        {
          "output_type": "stream",
          "name": "stdout",
          "text": [
            "iter 69: loss = 734.875 validation loss = 734.771\n"
          ]
        },
        {
          "output_type": "stream",
          "name": "stderr",
          "text": [
            "\r 71%|███████   | 71/100 [40:03<16:13, 33.58s/it]"
          ]
        },
        {
          "output_type": "stream",
          "name": "stdout",
          "text": [
            "iter 70: loss = 734.193 validation loss = 734.682\n"
          ]
        },
        {
          "output_type": "stream",
          "name": "stderr",
          "text": [
            "\r 72%|███████▏  | 72/100 [40:36<15:38, 33.51s/it]"
          ]
        },
        {
          "output_type": "stream",
          "name": "stdout",
          "text": [
            "iter 71: loss = 734.692 validation loss = 734.572\n"
          ]
        },
        {
          "output_type": "stream",
          "name": "stderr",
          "text": [
            "\r 73%|███████▎  | 73/100 [41:10<15:05, 33.52s/it]"
          ]
        },
        {
          "output_type": "stream",
          "name": "stdout",
          "text": [
            "iter 72: loss = 734.050 validation loss = 734.000\n"
          ]
        },
        {
          "output_type": "stream",
          "name": "stderr",
          "text": [
            "\r 74%|███████▍  | 74/100 [41:43<14:31, 33.52s/it]"
          ]
        },
        {
          "output_type": "stream",
          "name": "stdout",
          "text": [
            "iter 73: loss = 734.935 validation loss = 735.771\n"
          ]
        },
        {
          "output_type": "stream",
          "name": "stderr",
          "text": [
            "\r 75%|███████▌  | 75/100 [42:16<13:53, 33.35s/it]"
          ]
        },
        {
          "output_type": "stream",
          "name": "stdout",
          "text": [
            "iter 74: loss = 734.096 validation loss = 733.701\n"
          ]
        },
        {
          "output_type": "stream",
          "name": "stderr",
          "text": [
            "\r 76%|███████▌  | 76/100 [42:51<13:27, 33.66s/it]"
          ]
        },
        {
          "output_type": "stream",
          "name": "stdout",
          "text": [
            "iter 75: loss = 734.987 validation loss = 750.528\n"
          ]
        },
        {
          "output_type": "stream",
          "name": "stderr",
          "text": [
            "\r 77%|███████▋  | 77/100 [43:24<12:48, 33.42s/it]"
          ]
        },
        {
          "output_type": "stream",
          "name": "stdout",
          "text": [
            "iter 76: loss = 736.408 validation loss = 733.906\n"
          ]
        },
        {
          "output_type": "stream",
          "name": "stderr",
          "text": [
            "\r 78%|███████▊  | 78/100 [43:58<12:19, 33.63s/it]"
          ]
        },
        {
          "output_type": "stream",
          "name": "stdout",
          "text": [
            "iter 77: loss = 733.568 validation loss = 733.489\n"
          ]
        },
        {
          "output_type": "stream",
          "name": "stderr",
          "text": [
            "\r 79%|███████▉  | 79/100 [44:31<11:41, 33.40s/it]"
          ]
        },
        {
          "output_type": "stream",
          "name": "stdout",
          "text": [
            "iter 78: loss = 733.516 validation loss = 733.674\n"
          ]
        },
        {
          "output_type": "stream",
          "name": "stderr",
          "text": [
            "\r 80%|████████  | 80/100 [45:04<11:07, 33.38s/it]"
          ]
        },
        {
          "output_type": "stream",
          "name": "stdout",
          "text": [
            "iter 79: loss = 733.463 validation loss = 733.419\n"
          ]
        },
        {
          "output_type": "stream",
          "name": "stderr",
          "text": [
            "\r 81%|████████  | 81/100 [45:37<10:33, 33.33s/it]"
          ]
        },
        {
          "output_type": "stream",
          "name": "stdout",
          "text": [
            "iter 80: loss = 735.400 validation loss = 736.307\n"
          ]
        },
        {
          "output_type": "stream",
          "name": "stderr",
          "text": [
            "\r 82%|████████▏ | 82/100 [46:10<10:00, 33.34s/it]"
          ]
        },
        {
          "output_type": "stream",
          "name": "stdout",
          "text": [
            "iter 81: loss = 733.670 validation loss = 733.320\n"
          ]
        },
        {
          "output_type": "stream",
          "name": "stderr",
          "text": [
            "\r 83%|████████▎ | 83/100 [46:44<09:27, 33.41s/it]"
          ]
        },
        {
          "output_type": "stream",
          "name": "stdout",
          "text": [
            "iter 82: loss = 733.040 validation loss = 733.531\n"
          ]
        },
        {
          "output_type": "stream",
          "name": "stderr",
          "text": [
            "\r 84%|████████▍ | 84/100 [47:17<08:51, 33.21s/it]"
          ]
        },
        {
          "output_type": "stream",
          "name": "stdout",
          "text": [
            "iter 83: loss = 733.931 validation loss = 736.189\n"
          ]
        },
        {
          "output_type": "stream",
          "name": "stderr",
          "text": [
            "\r 85%|████████▌ | 85/100 [47:51<08:20, 33.38s/it]"
          ]
        },
        {
          "output_type": "stream",
          "name": "stdout",
          "text": [
            "iter 84: loss = 733.201 validation loss = 732.767\n"
          ]
        },
        {
          "output_type": "stream",
          "name": "stderr",
          "text": [
            "\r 86%|████████▌ | 86/100 [48:23<07:44, 33.16s/it]"
          ]
        },
        {
          "output_type": "stream",
          "name": "stdout",
          "text": [
            "iter 85: loss = 733.538 validation loss = 739.731\n"
          ]
        },
        {
          "output_type": "stream",
          "name": "stderr",
          "text": [
            "\r 87%|████████▋ | 87/100 [48:57<07:13, 33.31s/it]"
          ]
        },
        {
          "output_type": "stream",
          "name": "stdout",
          "text": [
            "iter 86: loss = 735.277 validation loss = 732.807\n"
          ]
        },
        {
          "output_type": "stream",
          "name": "stderr",
          "text": [
            "\r 88%|████████▊ | 88/100 [49:30<06:38, 33.23s/it]"
          ]
        },
        {
          "output_type": "stream",
          "name": "stdout",
          "text": [
            "iter 87: loss = 732.682 validation loss = 732.947\n"
          ]
        },
        {
          "output_type": "stream",
          "name": "stderr",
          "text": [
            "\r 89%|████████▉ | 89/100 [50:03<06:03, 33.06s/it]"
          ]
        },
        {
          "output_type": "stream",
          "name": "stdout",
          "text": [
            "iter 88: loss = 732.669 validation loss = 732.761\n"
          ]
        },
        {
          "output_type": "stream",
          "name": "stderr",
          "text": [
            "\r 90%|█████████ | 90/100 [50:36<05:30, 33.10s/it]"
          ]
        },
        {
          "output_type": "stream",
          "name": "stdout",
          "text": [
            "iter 89: loss = 733.974 validation loss = 739.772\n"
          ]
        },
        {
          "output_type": "stream",
          "name": "stderr",
          "text": [
            "\r 91%|█████████ | 91/100 [51:09<04:58, 33.15s/it]"
          ]
        },
        {
          "output_type": "stream",
          "name": "stdout",
          "text": [
            "iter 90: loss = 736.174 validation loss = 733.071\n"
          ]
        },
        {
          "output_type": "stream",
          "name": "stderr",
          "text": [
            "\r 92%|█████████▏| 92/100 [51:43<04:28, 33.54s/it]"
          ]
        },
        {
          "output_type": "stream",
          "name": "stdout",
          "text": [
            "iter 91: loss = 732.605 validation loss = 732.467\n"
          ]
        },
        {
          "output_type": "stream",
          "name": "stderr",
          "text": [
            "\r 93%|█████████▎| 93/100 [52:17<03:53, 33.39s/it]"
          ]
        },
        {
          "output_type": "stream",
          "name": "stdout",
          "text": [
            "iter 92: loss = 732.430 validation loss = 732.628\n"
          ]
        },
        {
          "output_type": "stream",
          "name": "stderr",
          "text": [
            "\r 94%|█████████▍| 94/100 [52:50<03:20, 33.49s/it]"
          ]
        },
        {
          "output_type": "stream",
          "name": "stdout",
          "text": [
            "iter 93: loss = 732.622 validation loss = 732.164\n"
          ]
        },
        {
          "output_type": "stream",
          "name": "stderr",
          "text": [
            "\r 95%|█████████▌| 95/100 [53:22<02:45, 33.08s/it]"
          ]
        },
        {
          "output_type": "stream",
          "name": "stdout",
          "text": [
            "iter 94: loss = 732.278 validation loss = 732.844\n"
          ]
        },
        {
          "output_type": "stream",
          "name": "stderr",
          "text": [
            "\r 96%|█████████▌| 96/100 [53:55<02:11, 32.92s/it]"
          ]
        },
        {
          "output_type": "stream",
          "name": "stdout",
          "text": [
            "iter 95: loss = 732.818 validation loss = 732.368\n"
          ]
        },
        {
          "output_type": "stream",
          "name": "stderr",
          "text": [
            "\r 97%|█████████▋| 97/100 [54:29<01:40, 33.35s/it]"
          ]
        },
        {
          "output_type": "stream",
          "name": "stdout",
          "text": [
            "iter 96: loss = 732.084 validation loss = 732.067\n"
          ]
        },
        {
          "output_type": "stream",
          "name": "stderr",
          "text": [
            "\r 98%|█████████▊| 98/100 [55:02<01:06, 33.10s/it]"
          ]
        },
        {
          "output_type": "stream",
          "name": "stdout",
          "text": [
            "iter 97: loss = 735.928 validation loss = 733.868\n"
          ]
        },
        {
          "output_type": "stream",
          "name": "stderr",
          "text": [
            "\r 99%|█████████▉| 99/100 [55:36<00:33, 33.50s/it]"
          ]
        },
        {
          "output_type": "stream",
          "name": "stdout",
          "text": [
            "iter 98: loss = 732.549 validation loss = 732.179\n"
          ]
        },
        {
          "output_type": "stream",
          "name": "stderr",
          "text": [
            "100%|██████████| 100/100 [56:09<00:00, 33.70s/it]"
          ]
        },
        {
          "output_type": "stream",
          "name": "stdout",
          "text": [
            "iter 99: loss = 732.015 validation loss = 731.983\n"
          ]
        },
        {
          "output_type": "stream",
          "name": "stderr",
          "text": [
            "\n"
          ]
        }
      ],
      "source": [
        "optimizer = torch.optim.Adam(real_nvp_model.parameters(),lr=learning_rate)\n",
        "for t in tqdm(range(epochs)):\n",
        "  tr_loss = 0\n",
        "  for batch in train_loader:\n",
        "    # pdb.set_trace()\n",
        "    images,_ = batch\n",
        "    images = images.view(-1, in_features).to(device)\n",
        "    loss = -(real_nvp_model.log_prob(images)).mean()\n",
        "    tr_loss +=loss.item()\n",
        "    optimizer.zero_grad()\n",
        "    loss.backward(retain_graph=True)\n",
        "    optimizer.step()\n",
        "  train_loss.append(tr_loss/len(train_loader))\n",
        "  with torch.no_grad():\n",
        "    te_loss = 0\n",
        "    for batch in test_loader:\n",
        "      images,_=batch\n",
        "      images.view(-1,in_features)\n",
        "      images = images.view(-1, in_features).to(device)\n",
        "      te_loss +=-(real_nvp_model.log_prob(images)).mean().item()\n",
        "    test_loss.append(te_loss/len(test_loader))\n",
        "    x = real_nvp_model.sample(16).cpu().detach().view(-1,28,28).numpy()\n",
        "    result_images.append(x)\n",
        "  print('iter %s:' % t, 'loss = %.3f' % (tr_loss/len(train_loader)), 'validation loss = %.3f' % (te_loss/len(test_loader)))"
      ]
    },
    {
      "cell_type": "code",
      "source": [
        "fig,axes = plt.subplots(4,4,figsize=(8,8))\n",
        "for j,img in enumerate(result_images):\n",
        "  for i,ax in enumerate(axes.flatten()):\n",
        "    ax.imshow(img[i],cmap='Greys')\n",
        "\n",
        "  fig.savefig(f'/content/data/png/{j}.png')"
      ],
      "metadata": {
        "colab": {
          "base_uri": "https://localhost:8080/",
          "height": 679
        },
        "id": "1UMRlyeskKME",
        "outputId": "c54c6579-e212-4931-b2e2-4a79326a7482"
      },
      "execution_count": 95,
      "outputs": [
        {
          "output_type": "display_data",
          "data": {
            "text/plain": [
              "<Figure size 800x800 with 16 Axes>"
            ],
            "image/png": "[encoded data removed]"
          },
          "metadata": {}
        }
      ]
    },
    {
      "cell_type": "code",
      "source": [
        "import os\n",
        "import imageio\n",
        "\n",
        "png_dir = '/content/data/png'\n",
        "images = []\n",
        "files = [f'/content/data/png/{i}.png' for i in range(epochs)]\n",
        "for file_name in files:\n",
        "    if file_name.endswith('.png'):\n",
        "        file_path = os.path.join(png_dir, file_name)\n",
        "        images.append(imageio.imread(file_path))\n",
        "\n",
        "# Make it pause at the end so that the viewers can ponder\n",
        "for _ in range(10):\n",
        "    images.append(imageio.imread(file_path))\n",
        "\n",
        "imageio.mimsave('/content/data/png/movie.gif', images)"
      ],
      "metadata": {
        "colab": {
          "base_uri": "https://localhost:8080/"
        },
        "id": "OZP7dCPXqeIG",
        "outputId": "bee473c9-f734-4a56-ba0e-14eb8e4c4293"
      },
      "execution_count": 96,
      "outputs": [
        {
          "output_type": "stream",
          "name": "stderr",
          "text": [
            "<ipython-input-96-b39287929b8e>:10: DeprecationWarning: Starting with ImageIO v3 the behavior of this function will switch to that of iio.v3.imread. To keep the current behavior (and make this warning disappear) use `import imageio.v2 as imageio` or call `imageio.v2.imread` directly.\n",
            "  images.append(imageio.imread(file_path))\n",
            "<ipython-input-96-b39287929b8e>:14: DeprecationWarning: Starting with ImageIO v3 the behavior of this function will switch to that of iio.v3.imread. To keep the current behavior (and make this warning disappear) use `import imageio.v2 as imageio` or call `imageio.v2.imread` directly.\n",
            "  images.append(imageio.imread(file_path))\n"
          ]
        }
      ]
    },
    {
      "cell_type": "code",
      "execution_count": 102,
      "metadata": {
        "colab": {
          "base_uri": "https://localhost:8080/",
          "height": 564
        },
        "id": "XHBAcdO0En_g",
        "outputId": "7d10bf6e-9bf6-4dce-8eac-424405b644ba"
      },
      "outputs": [
        {
          "output_type": "display_data",
          "data": {
            "text/plain": [
              "<Figure size 800x600 with 1 Axes>"
            ],
            "image/png": "[encoded data removed]"
          },
          "metadata": {}
        }
      ],
      "source": [
        "plt.figure(figsize=(8,6))\n",
        "plt.plot(np.arange(1,100),train_loss[5:],label='Train')\n",
        "plt.plot(np.arange(1,100),test_loss[5:],label='Test')\n",
        "plt.title('Error per Iteration')\n",
        "plt.ylabel('Error')\n",
        "plt.xlabel('Iteration')\n",
        "plt.grid()\n",
        "plt.legend()\n",
        "plt.show()"
      ]
    }
  ],
  "metadata": {
    "accelerator": "GPU",
    "colab": {
      "provenance": []
    },
    "kernelspec": {
      "display_name": "Python 3",
      "name": "python3"
    },
    "language_info": {
      "name": "python"
    }
  },
  "nbformat": 4,
  "nbformat_minor": 0
}